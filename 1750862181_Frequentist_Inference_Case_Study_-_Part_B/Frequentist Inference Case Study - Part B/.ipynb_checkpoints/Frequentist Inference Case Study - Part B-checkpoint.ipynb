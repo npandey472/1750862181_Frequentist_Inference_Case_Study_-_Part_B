{
 "cells": [
  {
   "cell_type": "markdown",
   "metadata": {},
   "source": [
    "# Frequentist Inference Case Study - Part B"
   ]
  },
  {
   "cell_type": "markdown",
   "metadata": {},
   "source": [
    "## Learning objectives"
   ]
  },
  {
   "cell_type": "markdown",
   "metadata": {},
   "source": [
    "Welcome to Part B of the Frequentist inference case study! The purpose of this case study is to help you apply the concepts associated with Frequentist inference in Python. In particular, you'll practice writing Python code to apply the following statistical concepts: \n",
    "* the _z_-statistic\n",
    "* the _t_-statistic\n",
    "* the difference and relationship between the two\n",
    "* the Central Limit Theorem, including its assumptions and consequences\n",
    "* how to estimate the population mean and standard deviation from a sample\n",
    "* the concept of a sampling distribution of a test statistic, particularly for the mean\n",
    "* how to combine these concepts to calculate a confidence interval"
   ]
  },
  {
   "cell_type": "markdown",
   "metadata": {},
   "source": [
    "In the previous notebook, we used only data from a known normal distribution. **You'll now tackle real data, rather than simulated data, and answer some relevant real-world business problems using the data.**"
   ]
  },
  {
   "cell_type": "markdown",
   "metadata": {},
   "source": [
    "## Hospital medical charges"
   ]
  },
  {
   "cell_type": "markdown",
   "metadata": {},
   "source": [
    "Imagine that a hospital has hired you as their data scientist. An administrator is working on the hospital's business operations plan and needs you to help them answer some business questions. \n",
    "\n",
    "In this assignment notebook, you're going to use frequentist statistical inference on a data sample to answer the questions:\n",
    "* has the hospital's revenue stream fallen below a key threshold?\n",
    "* are patients with insurance really charged different amounts than those without?\n",
    "\n",
    "Answering that last question with a frequentist approach makes some assumptions, and requires some knowledge, about the two groups."
   ]
  },
  {
   "cell_type": "markdown",
   "metadata": {},
   "source": [
    "We are going to use some data on medical charges obtained from [Kaggle](https://www.kaggle.com/easonlai/sample-insurance-claim-prediction-dataset). \n",
    "\n",
    "For the purposes of this exercise, assume the observations are the result of random sampling from our single hospital. Recall that in the previous assignment, we introduced the Central Limit Theorem (CLT), and its consequence that the distributions of sample statistics approach a normal distribution as $n$ increases. The amazing thing about this is that it applies to the sampling distributions of statistics that have been calculated from even highly non-normal distributions of data! Recall, also, that hypothesis testing is very much based on making inferences about such sample statistics. You're going to rely heavily on the CLT to apply frequentist (parametric) tests to answer the questions in this notebook."
   ]
  },
  {
   "cell_type": "code",
   "execution_count": 1,
   "metadata": {},
   "outputs": [],
   "source": [
    "import pandas as pd\n",
    "import numpy as np\n",
    "import matplotlib.pyplot as plt\n",
    "from scipy.stats import t\n",
    "from numpy.random import seed\n",
    "medical = pd.read_csv('data/insurance2.csv')"
   ]
  },
  {
   "cell_type": "code",
   "execution_count": 2,
   "metadata": {},
   "outputs": [
    {
     "data": {
      "text/plain": [
       "(1338, 8)"
      ]
     },
     "execution_count": 2,
     "metadata": {},
     "output_type": "execute_result"
    }
   ],
   "source": [
    "medical.shape"
   ]
  },
  {
   "cell_type": "code",
   "execution_count": 3,
   "metadata": {},
   "outputs": [
    {
     "data": {
      "text/html": [
       "<div>\n",
       "<style scoped>\n",
       "    .dataframe tbody tr th:only-of-type {\n",
       "        vertical-align: middle;\n",
       "    }\n",
       "\n",
       "    .dataframe tbody tr th {\n",
       "        vertical-align: top;\n",
       "    }\n",
       "\n",
       "    .dataframe thead th {\n",
       "        text-align: right;\n",
       "    }\n",
       "</style>\n",
       "<table border=\"1\" class=\"dataframe\">\n",
       "  <thead>\n",
       "    <tr style=\"text-align: right;\">\n",
       "      <th></th>\n",
       "      <th>age</th>\n",
       "      <th>sex</th>\n",
       "      <th>bmi</th>\n",
       "      <th>children</th>\n",
       "      <th>smoker</th>\n",
       "      <th>region</th>\n",
       "      <th>charges</th>\n",
       "      <th>insuranceclaim</th>\n",
       "    </tr>\n",
       "  </thead>\n",
       "  <tbody>\n",
       "    <tr>\n",
       "      <th>0</th>\n",
       "      <td>19</td>\n",
       "      <td>0</td>\n",
       "      <td>27.900</td>\n",
       "      <td>0</td>\n",
       "      <td>1</td>\n",
       "      <td>3</td>\n",
       "      <td>16884.92400</td>\n",
       "      <td>1</td>\n",
       "    </tr>\n",
       "    <tr>\n",
       "      <th>1</th>\n",
       "      <td>18</td>\n",
       "      <td>1</td>\n",
       "      <td>33.770</td>\n",
       "      <td>1</td>\n",
       "      <td>0</td>\n",
       "      <td>2</td>\n",
       "      <td>1725.55230</td>\n",
       "      <td>1</td>\n",
       "    </tr>\n",
       "    <tr>\n",
       "      <th>2</th>\n",
       "      <td>28</td>\n",
       "      <td>1</td>\n",
       "      <td>33.000</td>\n",
       "      <td>3</td>\n",
       "      <td>0</td>\n",
       "      <td>2</td>\n",
       "      <td>4449.46200</td>\n",
       "      <td>0</td>\n",
       "    </tr>\n",
       "    <tr>\n",
       "      <th>3</th>\n",
       "      <td>33</td>\n",
       "      <td>1</td>\n",
       "      <td>22.705</td>\n",
       "      <td>0</td>\n",
       "      <td>0</td>\n",
       "      <td>1</td>\n",
       "      <td>21984.47061</td>\n",
       "      <td>0</td>\n",
       "    </tr>\n",
       "    <tr>\n",
       "      <th>4</th>\n",
       "      <td>32</td>\n",
       "      <td>1</td>\n",
       "      <td>28.880</td>\n",
       "      <td>0</td>\n",
       "      <td>0</td>\n",
       "      <td>1</td>\n",
       "      <td>3866.85520</td>\n",
       "      <td>1</td>\n",
       "    </tr>\n",
       "  </tbody>\n",
       "</table>\n",
       "</div>"
      ],
      "text/plain": [
       "   age  sex     bmi  children  smoker  region      charges  insuranceclaim\n",
       "0   19    0  27.900         0       1       3  16884.92400               1\n",
       "1   18    1  33.770         1       0       2   1725.55230               1\n",
       "2   28    1  33.000         3       0       2   4449.46200               0\n",
       "3   33    1  22.705         0       0       1  21984.47061               0\n",
       "4   32    1  28.880         0       0       1   3866.85520               1"
      ]
     },
     "execution_count": 3,
     "metadata": {},
     "output_type": "execute_result"
    }
   ],
   "source": [
    "medical.head()"
   ]
  },
  {
   "cell_type": "markdown",
   "metadata": {},
   "source": [
    "__Q1:__ Plot the histogram of charges and calculate the mean and standard deviation. Comment on the appropriateness of these statistics for the data."
   ]
  },
  {
   "cell_type": "markdown",
   "metadata": {},
   "source": [
    "__A:__"
   ]
  },
  {
   "cell_type": "code",
   "execution_count": 16,
   "metadata": {},
   "outputs": [
    {
     "data": {
      "image/png": "[encoded data removed]",
      "text/plain": [
       "<Figure size 640x480 with 1 Axes>"
      ]
     },
     "metadata": {},
     "output_type": "display_data"
    }
   ],
   "source": [
    "_ = plt.hist(medical, bins=5, edgecolor='blue', alpha=0.5)\n",
    "_ = plt.xlabel('charges ($)')\n",
    "_ = plt.ylabel('number of people')\n",
    "_ = plt.title('Distribution of charges')\n",
    "plt.show()"
   ]
  },
  {
   "cell_type": "code",
   "execution_count": 12,
   "metadata": {},
   "outputs": [
    {
     "name": "stdout",
     "output_type": "stream",
     "text": [
      "Mean : 1668.0248146262145\n",
      "Mean of charges : 13270.422265141257\n",
      "Standard Deviation (sample): age                  14.049960\n",
      "sex                   0.500160\n",
      "bmi                   6.098187\n",
      "children              1.205493\n",
      "smoker                0.403694\n",
      "region                1.104885\n",
      "charges           12110.011237\n",
      "insuranceclaim        0.492871\n",
      "dtype: float64\n"
     ]
    },
    {
     "name": "stderr",
     "output_type": "stream",
     "text": [
      "C:\\Users\\pande\\anaconda3\\Lib\\site-packages\\numpy\\core\\fromnumeric.py:3643: FutureWarning: The behavior of DataFrame.std with axis=None is deprecated, in a future version this will reduce over both axes and return a scalar. To retain the old behavior, pass axis=0 (or do not pass axis)\n",
      "  return std(axis=axis, dtype=dtype, out=out, ddof=ddof, **kwargs)\n"
     ]
    }
   ],
   "source": [
    "mean_value = np.mean(medical)\n",
    "print(f\"Mean : {mean_value}\")\n",
    "\n",
    "mean_charges = np.mean(medical['charges'])\n",
    "print(f\"Mean of charges : {mean_charges}\")\n",
    "\n",
    "std_dev_value = np.std(medical, ddof=1) #ddof=1 is for sample standard deviation\n",
    "print(f\"Standard Deviation (sample): {std_dev_value}\")"
   ]
  },
  {
   "cell_type": "markdown",
   "metadata": {},
   "source": [
    "__Q2:__ The administrator is concerned that the actual average charge has fallen below 12,000, threatening the hospital's operational model. On the assumption that these data represent a random sample of charges, how would you justify that these data allow you to answer that question? And what would be the most appropriate frequentist test, of the ones discussed so far, to apply?"
   ]
  },
  {
   "cell_type": "markdown",
   "metadata": {},
   "source": [
    "__A:__\n",
    "Sample Mean: 13270.42\n",
    "Hypothesized Mean: 12000\n",
    "T-statistic: 3.8374\n",
    "P-value: 0.9999\n",
    "\n",
    "Conclusion: Fail to reject the null hypothesis.\n",
    "There is not enough statistically significant evidence to suggest that the true average charge is less than 12,000."
   ]
  },
  {
   "cell_type": "code",
   "execution_count": 24,
   "metadata": {},
   "outputs": [
    {
     "name": "stdout",
     "output_type": "stream",
     "text": [
      "Sample Mean: 13270.42\n",
      "Hypothesized Mean: 12000\n",
      "T-statistic: 3.8374\n",
      "P-value: 0.9999\n",
      "\n",
      "Conclusion: Fail to reject the null hypothesis.\n",
      "There is not enough statistically significant evidence to suggest that the true average charge is less than 12,000.\n"
     ]
    }
   ],
   "source": [
    "import pandas as pd\n",
    "from scipy import stats\n",
    "\n",
    "# 1. Load the data from the CSV file\n",
    "try:\n",
    "    df = pd.read_csv('data/insurance2.csv')\n",
    "except FileNotFoundError:\n",
    "    print(\"Error: The file 'your_data.csv' was not found.\")\n",
    "    exit()\n",
    "charges = df['charges']\n",
    "\n",
    "# 2. Define the null hypothesis and alternative hypothesis\n",
    "# The administrator is concerned the mean has FALLEN BELOW 12,000.\n",
    "# Null Hypothesis (H0): The population mean charge is >= 12,000\n",
    "# Alternative Hypothesis (HA): The population mean charge is < 12,000\n",
    "hypothesized_mean = 12000\n",
    "\n",
    "# 3. Perform the one-sample t-test\n",
    "# We specify 'alternative=\"less\"' for a one-tailed test\n",
    "t_statistic, p_value = stats.ttest_1samp(a=charges, popmean=hypothesized_mean, alternative='less')\n",
    "\n",
    "# 4. Interpret the results\n",
    "alpha = 0.05  # Standard significance level\n",
    "\n",
    "print(f\"Sample Mean: {charges.mean():.2f}\")\n",
    "print(f\"Hypothesized Mean: {hypothesized_mean}\")\n",
    "print(f\"T-statistic: {t_statistic:.4f}\")\n",
    "print(f\"P-value: {p_value:.4f}\\n\")\n",
    "\n",
    "if p_value < alpha:\n",
    "    print(\"Conclusion: Reject the null hypothesis.\")\n",
    "    print(\"There is statistically significant evidence to suggest that the true average charge is less than 12,000.\")\n",
    "else:\n",
    "    print(\"Conclusion: Fail to reject the null hypothesis.\")\n",
    "    print(\"There is not enough statistically significant evidence to suggest that the true average charge is less than 12,000.\")\n"
   ]
  },
  {
   "cell_type": "markdown",
   "metadata": {},
   "source": [
    "__Q3:__ Given the nature of the administrator's concern, what is the appropriate confidence interval in this case? A ***one-sided*** or ***two-sided*** interval? (Refresh your understanding of this concept on p. 399 of the *AoS*). Calculate the critical value and the relevant 95% confidence interval for the mean, and comment on whether the administrator should be concerned."
   ]
  },
  {
   "cell_type": "markdown",
   "metadata": {},
   "source": [
    "__A:__\n",
    "In this example, a one-sided interval testing for a potential negative outcome is likely the most direct approach since administrator is concerned that the actual average charge has fallen below 12,000."
   ]
  },
  {
   "cell_type": "code",
   "execution_count": 27,
   "metadata": {},
   "outputs": [
    {
     "name": "stdout",
     "output_type": "stream",
     "text": [
      "--- Critical Values ---\n",
      "One-sided critical value (t*): 1.6460\n",
      "--- Confidence Intervals ---\n",
      "Sample Mean: 13270.4223\n",
      "95% One-Sided (Lower Bound) Confidence Interval: (12725.4872, inf)\n"
     ]
    }
   ],
   "source": [
    "try:\n",
    "    df = pd.read_csv('data/insurance2.csv')\n",
    "    data_column = \"charges\"\n",
    "    data = df[data_column]\n",
    "except FileNotFoundError:\n",
    "    print(\"Error: The CSV file was not found. Please check the file name and path.\")\n",
    "    exit()\n",
    "except KeyError:\n",
    "    print(f\"Error: The column '{data_column}' was not found in the CSV. Please check the column name.\")\n",
    "    exit()\n",
    "\n",
    "# Set the confidence level\n",
    "confidence_level = 0.95\n",
    "alpha = 1 - confidence_level\n",
    "\n",
    "# Calculate sample statistics\n",
    "sample_mean = np.mean(data)\n",
    "sample_std = np.std(data, ddof=1)  # ddof=1 for sample standard deviation\n",
    "sample_size = len(data)\n",
    "standard_error = sample_std / np.sqrt(sample_size)\n",
    "degrees_of_freedom = sample_size - 1\n",
    "\n",
    "\n",
    "# For a one-sided 95% CI, we need the t-value for alpha = 0.05\n",
    "# Assuming the concern is about the value being *less* than some benchmark\n",
    "t_critical_one_sided = stats.t.ppf(1 - alpha, df=degrees_of_freedom)\n",
    "\n",
    "print(\"--- Critical Values ---\")\n",
    "print(f\"One-sided critical value (t*): {t_critical_one_sided:.4f}\")\n",
    "\n",
    "# --- Calculate the Confidence Intervals ---\n",
    "# Margin of error\n",
    "margin_of_error_one_sided = t_critical_one_sided * standard_error\n",
    "\n",
    "# One-sided 95% CI \n",
    "# This gives the lower bound of the interval.\n",
    "ci_one_sided_lower = (sample_mean - margin_of_error_one_sided, np.inf)\n",
    "\n",
    "print(\"--- Confidence Intervals ---\")\n",
    "print(f\"Sample Mean: {sample_mean:.4f}\")\n",
    "print(f\"95% One-Sided (Lower Bound) Confidence Interval: ({ci_one_sided_lower[0]:.4f}, inf)\")\n"
   ]
  },
  {
   "cell_type": "code",
   "execution_count": null,
   "metadata": {},
   "outputs": [],
   "source": [
    "Since 95% One-Sided (Lower Bound) Confidence Interval: (12725.4872, inf) and administrator concern is regarding charges falling below 12,000 which is lessser than the Lower Bound value, doesn't look like administrator should be concerned since 95% One-Sided (Lower Bound) Confidence Interval: (12725.4872, inf)."
   ]
  },
  {
   "cell_type": "code",
   "execution_count": null,
   "metadata": {},
   "outputs": [],
   "source": []
  },
  {
   "cell_type": "markdown",
   "metadata": {},
   "source": [
    "The administrator then wants to know whether people with insurance really are charged a different amount to those without.\n",
    "\n",
    "__Q4:__ State the null and alternative hypothesis here. Use the _t_-test for the difference between means, where the pooled standard deviation of the two groups is given by:\n",
    "\\begin{equation}\n",
    "s_p = \\sqrt{\\frac{(n_0 - 1)s^2_0 + (n_1 - 1)s^2_1}{n_0 + n_1 - 2}}\n",
    "\\end{equation}\n",
    "\n",
    "and the *t*-test statistic is then given by:\n",
    "\n",
    "\\begin{equation}\n",
    "t = \\frac{\\bar{x}_0 - \\bar{x}_1}{s_p \\sqrt{1/n_0 + 1/n_1}}.\n",
    "\\end{equation}\n",
    "\n",
    "(If you need some reminding of the general definition of ***t-statistic***, check out the definition on p. 404 of *AoS*). \n",
    "\n",
    "What assumption about the variances of the two groups are we making here?"
   ]
  },
  {
   "cell_type": "markdown",
   "metadata": {},
   "source": [
    "__A:__"
   ]
  },
  {
   "cell_type": "code",
   "execution_count": 33,
   "metadata": {},
   "outputs": [
    {
     "data": {
      "image/png": "[encoded data removed]",
      "text/plain": [
       "<Figure size 1200x600 with 1 Axes>"
      ]
     },
     "metadata": {},
     "output_type": "display_data"
    },
    {
     "name": "stdout",
     "output_type": "stream",
     "text": [
      "\n",
      "--- Independent T-Test Results ---\n",
      "Insured patients (n=783): Mean = $16423.93, SD = $14045.93\n",
      "Uninsured patients (n=555): Mean = $8821.42, SD = $6446.51\n",
      "Mean difference: $7602.51\n",
      "T-statistic: 13.2980\n",
      "P-value: 0.0000\n",
      "\n",
      "Decision: Reject the null hypothesis (p < 0.05)\n",
      "Conclusion: There is significant evidence that people with insurance\n",
      "are charged differently than those without insurance.\n"
     ]
    }
   ],
   "source": [
    "\n",
    "\n",
    "# Split the data into two groups\n",
    "insured = medical[medical['insuranceclaim'] == 1]['charges']  \n",
    "uninsured = medical[medical['insuranceclaim'] == 0]['charges']  \n",
    "\n",
    "# Calculate basic statistics\n",
    "insured_mean = insured.mean()\n",
    "uninsured_mean = uninsured.mean()\n",
    "insured_std = insured.std()\n",
    "uninsured_std = uninsured.std()\n",
    "\n",
    "# Visualize the distributions\n",
    "plt.figure(figsize=(12, 6))\n",
    "\n",
    "# Create histograms\n",
    "plt.subplot(1, 2, 2)\n",
    "plt.hist(insured, alpha=0.5, label=f'Insured (Mean: ${insured_mean:.2f})', edgecolor='blue')\n",
    "plt.hist(uninsured, alpha=0.5, label=f'Uninsured (Mean: ${uninsured_mean:.2f})', edgecolor='red')\n",
    "plt.xlabel('Charges ($)')\n",
    "plt.ylabel('Frequency')\n",
    "plt.legend()\n",
    "plt.title('Histogram of Hospital Charges by Insurance Status')\n",
    "\n",
    "plt.tight_layout()\n",
    "plt.show()\n",
    "\n",
    "# Perform independent t-test\n",
    "# H0: μ_insured = μ_uninsured (no difference in means)\n",
    "# H1: μ_insured ≠ μ_uninsured (there is a difference in means)\n",
    "t_stat, p_value = stats.ttest_ind(insured, uninsured, equal_var=False)  # Using Welch's t-test (not assuming equal variances)\n",
    "\n",
    "print(\"\\n--- Independent T-Test Results ---\")\n",
    "print(f\"Insured patients (n={len(insured)}): Mean = ${insured_mean:.2f}, SD = ${insured_std:.2f}\")\n",
    "print(f\"Uninsured patients (n={len(uninsured)}): Mean = ${uninsured_mean:.2f}, SD = ${uninsured_std:.2f}\")\n",
    "print(f\"Mean difference: ${insured_mean - uninsured_mean:.2f}\")\n",
    "print(f\"T-statistic: {t_stat:.4f}\")\n",
    "print(f\"P-value: {p_value:.4f}\")\n",
    "\n",
    "# Interpret the results\n",
    "alpha = 0.05\n",
    "if p_value < alpha:\n",
    "    print(\"\\nDecision: Reject the null hypothesis (p < 0.05)\")\n",
    "    print(\"Conclusion: There is significant evidence that people with insurance\")\n",
    "    print(\"are charged differently than those without insurance.\")\n",
    "else:\n",
    "    print(\"\\nDecision: Fail to reject the null hypothesis (p ≥ 0.05)\")\n",
    "    print(\"Conclusion: There is not sufficient evidence to conclude that people with insurance\")\n",
    "    print(\"are charged differently than those without insurance.\")\n"
   ]
  },
  {
   "cell_type": "markdown",
   "metadata": {},
   "source": [
    "__Q5:__ Perform this hypothesis test both manually, using the above formulae, and then using the appropriate function from [scipy.stats](https://docs.scipy.org/doc/scipy/reference/stats.html#statistical-tests) (hint, you're looking for a function to perform a _t_-test on two independent samples). For the manual approach, calculate the value of the test statistic and then its probability (the p-value). Verify you get the same results from both."
   ]
  },
  {
   "cell_type": "markdown",
   "metadata": {},
   "source": [
    "__A:__ "
   ]
  },
  {
   "cell_type": "code",
   "execution_count": 34,
   "metadata": {},
   "outputs": [
    {
     "name": "stdout",
     "output_type": "stream",
     "text": [
      "--- Sample Statistics ---\n",
      "Insured group: n=783, mean=$16423.93, variance=$197288105.15\n",
      "Uninsured group: n=555, mean=$8821.42, variance=$41557492.82\n",
      "Mean difference: $7602.51\n",
      "\n",
      "--- Manual T-Test Calculation ---\n",
      "t-statistic: 13.2980\n",
      "Degrees of freedom: 1169.9962\n",
      "p-value: 0.0000\n",
      "\n",
      "--- SciPy T-Test Result ---\n",
      "t-statistic: 13.2980\n",
      "p-value: 0.0000\n",
      "\n",
      "--- Verification ---\n",
      "Manual t-statistic: 13.2980, SciPy t-statistic: 13.2980\n",
      "Manual p-value: 0.0000, SciPy p-value: 0.0000\n",
      "Difference in t-statistic: 0.0000000000\n",
      "Difference in p-value: 0.0000000000\n",
      "\n",
      "--- Conclusion ---\n",
      "Decision: Reject the null hypothesis (p < 0.05)\n",
      "Conclusion: There is significant evidence that people with insurance\n",
      "are charged differently than those without insurance.\n"
     ]
    },
    {
     "name": "stderr",
     "output_type": "stream",
     "text": [
      "C:\\Users\\pande\\AppData\\Local\\Temp\\ipykernel_37292\\4086593800.py:65: MatplotlibDeprecationWarning: The 'labels' parameter of boxplot() has been renamed 'tick_labels' since Matplotlib 3.9; support for the old name will be dropped in 3.11.\n",
      "  plt.boxplot([insured_array, uninsured_array], labels=['Insured', 'Uninsured'])\n"
     ]
    },
    {
     "data": {
      "image/png": "[encoded data removed]",
      "text/plain": [
       "<Figure size 1200x600 with 1 Axes>"
      ]
     },
     "metadata": {},
     "output_type": "display_data"
    }
   ],
   "source": [
    "# Split the data into two groups\n",
    "insured = medical[medical['insuranceclaim'] == 1]['charges']  \n",
    "uninsured = medical[medical['insuranceclaim'] == 0]['charges'] \n",
    "\n",
    "# Convert to numpy arrays for easier calculation\n",
    "insured_array = np.array(insured)\n",
    "uninsured_array = np.array(uninsured)\n",
    "\n",
    "# Calculate basic statistics\n",
    "n1 = len(insured_array)\n",
    "n2 = len(uninsured_array)\n",
    "mean1 = np.mean(insured_array)\n",
    "mean2 = np.mean(uninsured_array)\n",
    "var1 = np.var(insured_array, ddof=1)  # Using ddof=1 for sample variance\n",
    "var2 = np.var(uninsured_array, ddof=1)\n",
    "\n",
    "print(\"--- Sample Statistics ---\")\n",
    "print(f\"Insured group: n={n1}, mean=${mean1:.2f}, variance=${var1:.2f}\")\n",
    "print(f\"Uninsured group: n={n2}, mean=${mean2:.2f}, variance=${var2:.2f}\")\n",
    "print(f\"Mean difference: ${mean1 - mean2:.2f}\")\n",
    "\n",
    "# MANUAL CALCULATION OF T-TEST (Welch's t-test, not assuming equal variances)\n",
    "# Calculate the t-statistic manually\n",
    "t_manual = (mean1 - mean2) / np.sqrt((var1/n1) + (var2/n2))\n",
    "\n",
    "# Calculate degrees of freedom using Welch-Satterthwaite equation\n",
    "df_manual = ((var1/n1 + var2/n2)**2) / ((var1/n1)**2/(n1-1) + (var2/n2)**2/(n2-1))\n",
    "\n",
    "# Calculate the p-value (two-tailed test)\n",
    "p_manual = 2 * (1 - stats.t.cdf(abs(t_manual), df_manual))\n",
    "\n",
    "print(\"\\n--- Manual T-Test Calculation ---\")\n",
    "print(f\"t-statistic: {t_manual:.4f}\")\n",
    "print(f\"Degrees of freedom: {df_manual:.4f}\")\n",
    "print(f\"p-value: {p_manual:.4f}\")\n",
    "\n",
    "# USING SCIPY.STATS FOR T-TEST\n",
    "t_scipy, p_scipy = stats.ttest_ind(insured_array, uninsured_array, equal_var=False)  # Welch's t-test\n",
    "\n",
    "print(\"\\n--- SciPy T-Test Result ---\")\n",
    "print(f\"t-statistic: {t_scipy:.4f}\")\n",
    "print(f\"p-value: {p_scipy:.4f}\")\n",
    "\n",
    "# Verify the results match\n",
    "print(\"\\n--- Verification ---\")\n",
    "print(f\"Manual t-statistic: {t_manual:.4f}, SciPy t-statistic: {t_scipy:.4f}\")\n",
    "print(f\"Manual p-value: {p_manual:.4f}, SciPy p-value: {p_scipy:.4f}\")\n",
    "print(f\"Difference in t-statistic: {abs(t_manual - t_scipy):.10f}\")\n",
    "print(f\"Difference in p-value: {abs(p_manual - p_scipy):.10f}\")\n",
    "\n",
    "# Interpret the results\n",
    "alpha = 0.05\n",
    "print(\"\\n--- Conclusion ---\")\n",
    "if p_manual < alpha:\n",
    "    print(\"Decision: Reject the null hypothesis (p < 0.05)\")\n",
    "    print(\"Conclusion: There is significant evidence that people with insurance\")\n",
    "    print(\"are charged differently than those without insurance.\")\n",
    "else:\n",
    "    print(\"Decision: Fail to reject the null hypothesis (p ≥ 0.05)\")\n",
    "    print(\"Conclusion: There is not sufficient evidence to conclude that people with insurance\")\n",
    "    print(\"are charged differently than those without insurance.\")"
   ]
  },
  {
   "cell_type": "code",
   "execution_count": null,
   "metadata": {},
   "outputs": [],
   "source": [
    " There is significant evidence that people with insurance\n",
    "are charged differently than those without insurance."
   ]
  },
  {
   "cell_type": "code",
   "execution_count": null,
   "metadata": {},
   "outputs": [],
   "source": []
  },
  {
   "cell_type": "code",
   "execution_count": null,
   "metadata": {},
   "outputs": [],
   "source": []
  },
  {
   "cell_type": "markdown",
   "metadata": {},
   "source": [
    "Congratulations! Hopefully you got the exact same numerical results. This shows that you correctly calculated the numbers by hand. Secondly, you used the correct function and saw that it's much easier to use. All you need to do is pass your data to it."
   ]
  },
  {
   "cell_type": "markdown",
   "metadata": {},
   "source": [
    "__Q6:__ Conceptual question: look through the documentation for statistical test functions in scipy.stats. You'll see the above _t_-test for a sample, but can you see an equivalent one for performing a *z*-test from a sample? Comment on your answer."
   ]
  },
  {
   "cell_type": "markdown",
   "metadata": {},
   "source": [
    "__A:__\n",
    " Z-tests require knowing the population standard deviation (σ), which is rarely available in real-world scenarios. When working with samples, we typically only have the sample standard deviation (s)."
   ]
  },
  {
   "cell_type": "markdown",
   "metadata": {},
   "source": [
    "## Learning outcomes"
   ]
  },
  {
   "cell_type": "markdown",
   "metadata": {},
   "source": [
    "Having completed this project notebook, you now have good hands-on experience:\n",
    "* using the central limit theorem to help you apply frequentist techniques to answer questions that pertain to very non-normally distributed data from the real world\n",
    "* performing inference using such data to answer business questions\n",
    "* forming a hypothesis and framing the null and alternative hypotheses\n",
    "* testing this using a _t_-test"
   ]
  }
 ],
 "metadata": {
  "kernelspec": {
   "display_name": "Python [conda env:base] *",
   "language": "python",
   "name": "conda-base-py"
  },
  "language_info": {
   "codemirror_mode": {
    "name": "ipython",
    "version": 3
   },
   "file_extension": ".py",
   "mimetype": "text/x-python",
   "name": "python",
   "nbconvert_exporter": "python",
   "pygments_lexer": "ipython3",
   "version": "3.12.7"
  }
 },
 "nbformat": 4,
 "nbformat_minor": 4
}
